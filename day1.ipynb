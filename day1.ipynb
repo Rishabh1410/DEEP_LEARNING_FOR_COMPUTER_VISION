from PIL import Image
import numpy as np
img_w, img_h = 1000, 1000
data = np.zeros((img_h, img_w, 3), dtype=np.uint8)
for i in range (150,300):
    for j in range(250,500):
        data[j, i] = [255, 255, 255]
        data[j, 1000-i] = [255, 255, 255]

for k in range(650,750):
    for z in range(250,750):
        data[k, z] = [255, 255, 255]
img = Image.fromarray(data, 'RGB')
img.save('test.png')
img.show()
